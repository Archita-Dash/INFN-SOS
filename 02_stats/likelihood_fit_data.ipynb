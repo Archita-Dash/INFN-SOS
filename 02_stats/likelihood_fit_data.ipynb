{
 "cells": [
  {
   "cell_type": "markdown",
   "metadata": {},
   "source": [
    "# Likelihood Fit Data\n",
    " >__Created__:  October 2021, Virtual, LPC Course: Statistics in Particle Physics.\n",
    " \n",
    "Create data file for notebook __likelihood_fit__. \n",
    " "
   ]
  },
  {
   "cell_type": "code",
   "execution_count": 1,
   "metadata": {},
   "outputs": [],
   "source": [
    "# standard system modules\n",
    "import os, sys\n",
    "\n",
    "# standard array manipulation module\n",
    "import numpy as np\n",
    "\n",
    "# standard plotting module\n",
    "import matplotlib as mp\n",
    "import matplotlib.pyplot as plt\n",
    "\n",
    "# make plots appear inline\n",
    "%matplotlib inline"
   ]
  },
  {
   "cell_type": "code",
   "execution_count": 2,
   "metadata": {},
   "outputs": [],
   "source": [
    "# update fonts\n",
    "font = {'family' : 'serif',\n",
    "        'weight' : 'normal',\n",
    "        'size'   : 20\n",
    "        }\n",
    "mp.rc('font', **font)\n",
    "mp.rc('xtick', labelsize='x-small')\n",
    "mp.rc('ytick', labelsize='x-small')\n",
    "\n",
    "# set usetex = False if Latex is not available on your system\n",
    "mp.rc('text', usetex=True)\n",
    "\n",
    "# set a seed to ensure reproducibility \n",
    "# on a given machine\n",
    "seed = 111\n",
    "rnd = np.random.RandomState(seed)"
   ]
  },
  {
   "cell_type": "markdown",
   "metadata": {},
   "source": [
    "### Generate some data from a double exponential\n",
    "\n",
    "$m(x | a, b) = P \\, a \\exp(-a x) + (1-P) \\, b \\exp(-b x)$"
   ]
  },
  {
   "cell_type": "code",
   "execution_count": 31,
   "metadata": {},
   "outputs": [
    {
     "name": "stdout",
     "output_type": "stream",
     "text": [
      "mean:      7.252\tstd:      8.040\n"
     ]
    }
   ],
   "source": [
    "A = 5.0\n",
    "B =10.0\n",
    "P = 2.0/3\n",
    "\n",
    "def F(x, a, b):\n",
    "    return P * np.exp(-x/a)/a + (1-P) * np.exp(-x/b)/b\n",
    "\n",
    "r = rnd.exponential\n",
    "u = rnd.uniform\n",
    "\n",
    "M = 200\n",
    "X = []\n",
    "for i in range(M):\n",
    "    X.append( r(A) if u() < P else r(B) )\n",
    "X = np.array(X)\n",
    "\n",
    "print('mean: %10.3f\\tstd: %10.3f' % (X.mean(),X.std()))"
   ]
  },
  {
   "cell_type": "code",
   "execution_count": 32,
   "metadata": {},
   "outputs": [
    {
     "data": {
      "text/plain": [
       "2289"
      ]
     },
     "execution_count": 32,
     "metadata": {},
     "output_type": "execute_result"
    }
   ],
   "source": [
    "record = '''F: P * np.exp(-x/a)/a + (1-P) * np.exp(-x/b)/b\n",
    "A: %10.3f\n",
    "B: %10.3f\n",
    "P: %10.3f\n",
    "%s''' % (A, B, P, '\\n'.join(['%10.3f' % x for x in X]) + '\\n')\n",
    "open('likelihood_fit_data_80.txt', 'w').write(record)"
   ]
  },
  {
   "cell_type": "code",
   "execution_count": 33,
   "metadata": {},
   "outputs": [],
   "source": [
    "def plotdata(d, f, \n",
    "             nbins=20, \n",
    "             xmin=0, xmax=40, \n",
    "             ymin=0, ymax=0.4, \n",
    "             ftsize=20, \n",
    "             color=(0,0,1), \n",
    "             fgsize=(5, 5)):\n",
    "    \n",
    "    h = (xmax-xmin)/nbins\n",
    "    x = np.arange(xmin, xmax, h)\n",
    "    \n",
    "    # set size of figure\n",
    "    fig = plt.figure(figsize=fgsize)\n",
    "\n",
    "    plt.xlim([xmin, xmax])\n",
    "    plt.ylim([ymin, ymax])\n",
    "    \n",
    "    # annotate axes\n",
    "    plt.xlabel(r'$x$', fontsize=ftsize)\n",
    "    plt.ylabel(r'$f(x, a, b)$', fontsize=ftsize)\n",
    "    \n",
    "    # histogram data\n",
    "    # returns y, x, o\n",
    "    # y: counts\n",
    "    # x: bin boundaries\n",
    "    # o: objects (not used, hence the use of \"_\")\n",
    "    \n",
    "    w = np.ones(len(d))/len(d)\n",
    "    plt.hist(d, \n",
    "             weights=w,\n",
    "             bins=nbins, \n",
    "             color='steelblue', \n",
    "             alpha=0.3,\n",
    "             range=(xmin, xmax)) \n",
    "    \n",
    "    g = f(x, A, B) * h\n",
    "    plt.plot(x, g, color='red')\n",
    "    \n",
    "    fig.tight_layout()\n",
    "    plt.savefig('fig_likelihood_data.pdf')\n",
    "    plt.show()"
   ]
  },
  {
   "cell_type": "code",
   "execution_count": 34,
   "metadata": {},
   "outputs": [
    {
     "data": {
      "image/png": "[encoded data removed]",
      "text/plain": [
       "<Figure size 360x360 with 1 Axes>"
      ]
     },
     "metadata": {
      "needs_background": "light"
     },
     "output_type": "display_data"
    }
   ],
   "source": [
    "plotdata(X, F)"
   ]
  },
  {
   "cell_type": "code",
   "execution_count": 35,
   "metadata": {},
   "outputs": [],
   "source": [
    "def nll(a, b):\n",
    "    f = -np.log(F(X, a, b))\n",
    "    return f.sum()"
   ]
  },
  {
   "cell_type": "code",
   "execution_count": 36,
   "metadata": {},
   "outputs": [],
   "source": [
    "AMIN, BMIN = 0.1, 0.1\n",
    "AMAX, BMAX = 20, 30\n",
    "def compute_lhood(nsteps=100, \n",
    "                  xmin=AMIN, xmax=AMAX,\n",
    "                  ymin=BMIN, ymax=BMAX):\n",
    "    \n",
    "    # 1. first create a mesh\n",
    "    # 2. compute likelihood at mesh points\n",
    "    xdelta = float(xmax-xmin)/nsteps\n",
    "    ydelta = float(ymax-ymin)/nsteps\n",
    "    x      = np.arange(xmin, xmax, xdelta)\n",
    "    y      = np.arange(ymin, ymax, ydelta)\n",
    "    x, y   = np.meshgrid(x, y)\n",
    "\n",
    "    z = [nll(a, b) for a, b in zip(x.flatten(), y.flatten())]\n",
    "    z = np.array(z).reshape(x.shape)\n",
    "    z = np.exp(-z)\n",
    "    return (x, y, z)"
   ]
  },
  {
   "cell_type": "code",
   "execution_count": 37,
   "metadata": {},
   "outputs": [],
   "source": [
    "points = compute_lhood()"
   ]
  },
  {
   "cell_type": "code",
   "execution_count": 38,
   "metadata": {},
   "outputs": [],
   "source": [
    "def plot_lhood(points,\n",
    "               nsteps=50, \n",
    "               xmin=AMIN, xmax=AMAX, \n",
    "               ymin=BMIN, ymax=BMAX, \n",
    "               ftsize=20, \n",
    "               color=(0,0,1), \n",
    "               fgsize=(5, 5)):\n",
    "\n",
    "    # set size of figure\n",
    "    fig = plt.figure(figsize=fgsize)\n",
    "\n",
    "    plt.xlim([xmin, xmax])\n",
    "    #plt.ylim([ymin, ymax])\n",
    "    \n",
    "    # annotate axes\n",
    "    plt.xlabel(r'$a$', fontsize=ftsize)\n",
    "    plt.ylabel(r'$b$', fontsize=ftsize)\n",
    "    \n",
    "    rainbow= plt.get_cmap('rainbow')\n",
    "    earth  = plt.get_cmap('gist_earth')\n",
    "   \n",
    "    # plot contours\n",
    "    x, y, z  = points\n",
    "    plt.contour(x, y, z, cmap=rainbow)\n",
    "    \n",
    "    fig.tight_layout()\n",
    "    plt.savefig('fig_likelihood_80.pdf')\n",
    "    plt.show()"
   ]
  },
  {
   "cell_type": "markdown",
   "metadata": {},
   "source": [
    "### Now plot likelihood"
   ]
  },
  {
   "cell_type": "code",
   "execution_count": 39,
   "metadata": {},
   "outputs": [
    {
     "data": {
      "image/png": "[encoded data removed]",
      "text/plain": [
       "<Figure size 360x360 with 1 Axes>"
      ]
     },
     "metadata": {
      "needs_background": "light"
     },
     "output_type": "display_data"
    }
   ],
   "source": [
    "plot_lhood(points)"
   ]
  },
  {
   "cell_type": "code",
   "execution_count": null,
   "metadata": {},
   "outputs": [],
   "source": []
  }
 ],
 "metadata": {
  "kernelspec": {
   "display_name": "Python 3",
   "language": "python",
   "name": "python3"
  },
  "language_info": {
   "codemirror_mode": {
    "name": "ipython",
    "version": 3
   },
   "file_extension": ".py",
   "mimetype": "text/x-python",
   "name": "python",
   "nbconvert_exporter": "python",
   "pygments_lexer": "ipython3",
   "version": "3.8.1"
  }
 },
 "nbformat": 4,
 "nbformat_minor": 1
}
