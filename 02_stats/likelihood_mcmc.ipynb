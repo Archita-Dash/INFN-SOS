{
 "cells": [
  {
   "cell_type": "markdown",
   "metadata": {},
   "source": [
    "# Likelihood Fit with MCMC\n",
    " >__Created__:  October 2021, Virtual, LPC Course: Statistics in Particle Physics.<br>\n",
    " >__Updated__: May 2022, INFN School of Statistics\n",
    " \n",
    " \n",
    " This notebook gives a basic introduction to the use of MCMC to sample a likelihood. "
   ]
  },
  {
   "cell_type": "code",
   "execution_count": 2,
   "metadata": {},
   "outputs": [],
   "source": [
    "# standard system modules\n",
    "import os, sys\n",
    "\n",
    "# standard table manipulation module\n",
    "#import pandas as pd\n",
    "\n",
    "# standard array manipulation module\n",
    "import numpy as np\n",
    "\n",
    "# standard scientific python module\n",
    "import scipy as sp\n",
    "import scipy.stats as st\n",
    "import scipy.optimize as op\n",
    "\n",
    "# MCMC \n",
    "import emcee as em\n",
    "\n",
    "# dump and load objects to/from disk \n",
    "import joblib as jb\n",
    "\n",
    "# standard symbolic algebra pakage\n",
    "import sympy as sm\n",
    "\n",
    "# standard plotting module\n",
    "import matplotlib as mp\n",
    "import matplotlib.pyplot as plt\n",
    "\n",
    "# make plots appear inline\n",
    "%matplotlib inline"
   ]
  },
  {
   "cell_type": "code",
   "execution_count": 3,
   "metadata": {},
   "outputs": [],
   "source": [
    "# update fonts\n",
    "font = {'family' : 'serif',\n",
    "        'weight' : 'normal',\n",
    "        'size'   : 20\n",
    "        }\n",
    "mp.rc('font', **font)\n",
    "mp.rc('xtick', labelsize='x-small')\n",
    "mp.rc('ytick', labelsize='x-small')\n",
    "\n",
    "# set usetex = False if Latex is not available on your system\n",
    "mp.rc('text', usetex=True)\n",
    "\n",
    "# set a seed to ensure reproducibility \n",
    "# on a given machine\n",
    "seed = 111\n",
    "rnd = np.random.RandomState(seed)"
   ]
  },
  {
   "cell_type": "markdown",
   "metadata": {},
   "source": [
    "### Load data\n",
    "\n",
    "$m(x | a, b) = P \\, a \\exp(-a x) + (1-P) \\, b \\exp(-b x)$\n",
    "\n",
    "Format of data file:\n",
    "```python\n",
    "F: P * np.exp(-x/a)/a + (1-P) * np.exp(-x/b)/b\n",
    "A:      5.000\n",
    "B:     10.000\n",
    "P:      0.667\n",
    "     2.659\n",
    "    17.451\n",
    "     0.621\n",
    "    12.218\n",
    "        :\n",
    "```"
   ]
  },
  {
   "cell_type": "code",
   "execution_count": 4,
   "metadata": {},
   "outputs": [
    {
     "data": {
      "text/plain": [
       "('P * np.exp(-x/a)/a + (1-P) * np.exp(-x/b)/b',\n",
       " 5.0,\n",
       " 10.0,\n",
       " 0.667,\n",
       " array([ 2.659, 17.451,  0.621, 12.218,  9.26 ,  8.134,  5.046,  5.066,\n",
       "         1.21 , 43.149, 10.258,  3.229, 10.135, 18.063,  1.768,  0.13 ,\n",
       "         6.618,  1.23 ,  9.509,  6.428,  9.125,  2.777,  6.33 ,  0.143,\n",
       "         0.687,  1.153, 26.605,  3.086, 16.848, 10.318,  3.633,  8.042,\n",
       "         1.034,  0.262,  2.168,  6.474,  0.827,  7.606,  8.019,  0.425]))"
      ]
     },
     "execution_count": 4,
     "metadata": {},
     "output_type": "execute_result"
    }
   ],
   "source": [
    "# read all records\n",
    "records = [x.strip() for x in open('likelihood_data.txt').readlines()]\n",
    "\n",
    "# get model formula\n",
    "model   = records[0].split(': ')[-1]\n",
    "\n",
    "# get true parameters (a, b, and p)\n",
    "A, B, P = [float(x.split()[-1]) for x in records[1:4]]\n",
    "\n",
    "# read data\n",
    "X       = np.array([float(x) for x in records[4:]])\n",
    "\n",
    "model, A, B, P, X"
   ]
  },
  {
   "cell_type": "markdown",
   "metadata": {},
   "source": [
    "Create model"
   ]
  },
  {
   "cell_type": "code",
   "execution_count": 5,
   "metadata": {},
   "outputs": [
    {
     "name": "stdout",
     "output_type": "stream",
     "text": [
      "\n",
      "def F(x, a, b):\n",
      "    return P * np.exp(-x/a)/a + (1-P) * np.exp(-x/b)/b\n",
      "\n"
     ]
    }
   ],
   "source": [
    "record = '''\n",
    "def F(x, a, b):\n",
    "    return %s\n",
    "''' % model\n",
    "print(record)\n",
    "\n",
    "exec(record)"
   ]
  },
  {
   "cell_type": "code",
   "execution_count": 6,
   "metadata": {},
   "outputs": [],
   "source": [
    "def plot_data(d, f, \n",
    "              nbins=20, \n",
    "              xmin=0, xmax=40, \n",
    "              ymin=0, ymax=0.4, \n",
    "              ftsize=20, \n",
    "              color=(0,0,1), \n",
    "              fgsize=(5, 5)):\n",
    "    \n",
    "    h = (xmax-xmin)/nbins\n",
    "    x = np.arange(xmin, xmax, h)\n",
    "    \n",
    "    # set size of figure\n",
    "    fig = plt.figure(figsize=fgsize)\n",
    "\n",
    "    plt.xlim([xmin, xmax])\n",
    "    plt.ylim([ymin, ymax])\n",
    "    \n",
    "    # annotate axes\n",
    "    plt.xlabel(r'$x$', fontsize=ftsize)\n",
    "    plt.ylabel(r'$f(x, a, b)$', fontsize=ftsize)\n",
    "    \n",
    "    # histogram data\n",
    "    # returns y, x, o\n",
    "    # y: counts\n",
    "    # x: bin boundaries\n",
    "    # o: objects\n",
    "    \n",
    "    w = np.ones(len(d))/len(d)\n",
    "    plt.hist(d, \n",
    "             weights=w,\n",
    "             bins=nbins, \n",
    "             color='steelblue', \n",
    "             alpha=0.3,\n",
    "             range=(xmin, xmax)) \n",
    "    \n",
    "    g = f(x, A, B) * h\n",
    "    plt.plot(x, g, color='red')\n",
    "    \n",
    "    fig.tight_layout()\n",
    "    plt.savefig('fig_exp_data.pdf')\n",
    "    plt.show()"
   ]
  },
  {
   "cell_type": "code",
   "execution_count": 7,
   "metadata": {},
   "outputs": [
    {
     "data": {
      "image/png": "[encoded data removed]",
      "text/plain": [
       "<Figure size 360x360 with 1 Axes>"
      ]
     },
     "metadata": {
      "needs_background": "light"
     },
     "output_type": "display_data"
    }
   ],
   "source": [
    "plot_data(X, F)"
   ]
  },
  {
   "cell_type": "markdown",
   "metadata": {},
   "source": [
    "### Define log-likelihood (ll)"
   ]
  },
  {
   "cell_type": "code",
   "execution_count": 8,
   "metadata": {},
   "outputs": [],
   "source": [
    "AMIN = 0.1\n",
    "AMAX = 16\n",
    "BMIN = 0.1\n",
    "BMAX = 25\n",
    "\n",
    "def ll(params, big=1e3):\n",
    "    a, b = params\n",
    "    \n",
    "    if a < AMIN: return -big\n",
    "    if a > AMAX: return -big\n",
    "    \n",
    "    if b < BMIN: return -big\n",
    "    if b > BMAX: return -big\n",
    "\n",
    "    f = np.log(F(X, a, b)).sum()\n",
    " \n",
    "    #print('%10.3f\\t%10.3f,%10.3f' % (f,a,b))\n",
    "    if np.isnan(f):\n",
    "        return -big\n",
    "    else:\n",
    "        return f"
   ]
  },
  {
   "cell_type": "markdown",
   "metadata": {},
   "source": [
    "## Use emcee for sampling \n",
    "\n",
    "https://emcee.readthedocs.io/en/stable/tutorials/line/\n",
    "\n",
    "Perform sampling with several walkers"
   ]
  },
  {
   "cell_type": "markdown",
   "metadata": {},
   "source": [
    "$m(x | a, b) = p \\, \\exp(-x / a) / a + (1-p) \\exp(-x / b) / b$ "
   ]
  },
  {
   "cell_type": "code",
   "execution_count": 9,
   "metadata": {
    "scrolled": true
   },
   "outputs": [],
   "source": [
    "# initial state of MCMC (parameter points)\n",
    "npars    = 2      # number of parameters\n",
    "niter    = 100000 # number of iterations\n",
    "nwalkers = 10     # number of MCMC chains\n",
    "\n",
    "# random initial values\n",
    "initial  = np.abs(5 + 2*np.random.randn(nwalkers, npars))"
   ]
  },
  {
   "cell_type": "markdown",
   "metadata": {},
   "source": [
    "### Run MCMC"
   ]
  },
  {
   "cell_type": "code",
   "execution_count": 10,
   "metadata": {},
   "outputs": [
    {
     "name": "stderr",
     "output_type": "stream",
     "text": [
      "100%|█████████████████████████████████| 100000/100000 [00:19<00:00, 5113.17it/s]"
     ]
    },
    {
     "name": "stdout",
     "output_type": "stream",
     "text": [
      "[0.66807 0.66899 0.67111 0.67337 0.67485 0.67104 0.66721 0.67351 0.66916\n",
      " 0.66898]\n",
      "\n",
      "saved MCMC data to: likelihood_mcmc.db\n"
     ]
    },
    {
     "name": "stderr",
     "output_type": "stream",
     "text": [
      "\n"
     ]
    }
   ],
   "source": [
    "sampler = em.EnsembleSampler(nwalkers, npars, ll)\n",
    "\n",
    "sampler.run_mcmc(initial, niter, progress=True)\n",
    "    \n",
    "print(sampler.acceptance_fraction)\n",
    "\n",
    "fname = 'likelihood_mcmc.db'\n",
    "jb.dump(sampler, fname)\n",
    "print('\\nsaved MCMC data to: %s' % fname)"
   ]
  },
  {
   "cell_type": "code",
   "execution_count": 11,
   "metadata": {},
   "outputs": [
    {
     "name": "stdout",
     "output_type": "stream",
     "text": [
      "(90000, 2) 90000.0\n"
     ]
    }
   ],
   "source": [
    "ndiscard = 10000\n",
    "nthin    = 10\n",
    "sample   = sampler.get_chain(discard=ndiscard, \n",
    "                             thin=nthin, \n",
    "                             flat=True)\n",
    "print(sample.shape,(niter-ndiscard)*nwalkers/nthin)"
   ]
  },
  {
   "cell_type": "code",
   "execution_count": 12,
   "metadata": {},
   "outputs": [],
   "source": [
    "def compute_lhood(loglike, \n",
    "                  nsteps=100, \n",
    "                  xmin=AMIN, xmax=AMAX,\n",
    "                  ymin=BMIN, ymax=BMAX):\n",
    "    \n",
    "    # 1. first create a mesh grid\n",
    "    xdelta = float(xmax-xmin)/nsteps\n",
    "    ydelta = float(ymax-ymin)/nsteps\n",
    "    x      = np.arange(xmin, xmax, xdelta)\n",
    "    y      = np.arange(ymin, ymax, ydelta)\n",
    "    x, y   = np.meshgrid(x, y)\n",
    "    \n",
    "    # 2. compute likelihoods at all mesh grid points\n",
    "    z = [loglike((a, b)) for a, b in zip(x.flatten(), y.flatten())]\n",
    "    z = np.array(z).reshape(x.shape)\n",
    "    z = np.exp(z)\n",
    "\n",
    "    return (x, y, z)"
   ]
  },
  {
   "cell_type": "code",
   "execution_count": 13,
   "metadata": {},
   "outputs": [],
   "source": [
    "pts = compute_lhood(ll)"
   ]
  },
  {
   "cell_type": "code",
   "execution_count": 14,
   "metadata": {},
   "outputs": [],
   "source": [
    "def plot_lhood(points, sample,\n",
    "               nsteps=50, \n",
    "               xmin=AMIN, xmax=AMAX, \n",
    "               ymin=BMIN, ymax=BMAX, \n",
    "               ftsize=20, \n",
    "               fgsize=(6, 6)):\n",
    "\n",
    "    # set size of figure\n",
    "    fig = plt.figure(figsize=fgsize)\n",
    "    \n",
    "    plt.xlim([xmin, xmax])\n",
    "    plt.locator_params(axis='x', nbins=4)\n",
    "    \n",
    "    plt.ylim([ymin, ymax])\n",
    "    plt.locator_params(axis='y', nbins=4)\n",
    "    \n",
    "    # annotate axes\n",
    "    plt.xlabel(r'$a$', fontsize=ftsize)\n",
    "    plt.ylabel(r'$b$', fontsize=ftsize)\n",
    "\n",
    "    # plot contours\n",
    "    rainbow = plt.get_cmap('rainbow')\n",
    "    x, y, z = points\n",
    "    plt.contour(x, y, z, cmap=rainbow)\n",
    "    \n",
    "    # plot MCMC points\n",
    "    gist_earth = plt.get_cmap('gist_earth')\n",
    "    xx = sample.transpose()[0]\n",
    "    yy = sample.transpose()[1]\n",
    "    h  = plt.hist2d(xx, yy, bins=50, \n",
    "                    range=([[xmin, xmax], [ymin, ymax]]), \n",
    "                    cmap=gist_earth, \n",
    "                    norm=mp.colors.LogNorm())\n",
    "    \n",
    "    fig.tight_layout()\n",
    "    plt.savefig('fig_likelihood_mcmc.png')\n",
    "    plt.show()"
   ]
  },
  {
   "cell_type": "code",
   "execution_count": 15,
   "metadata": {},
   "outputs": [
    {
     "data": {
      "image/png": "[encoded data removed]",
      "text/plain": [
       "<Figure size 432x432 with 1 Axes>"
      ]
     },
     "metadata": {
      "needs_background": "light"
     },
     "output_type": "display_data"
    }
   ],
   "source": [
    "plot_lhood(pts, sample)"
   ]
  },
  {
   "cell_type": "code",
   "execution_count": null,
   "metadata": {},
   "outputs": [],
   "source": []
  }
 ],
 "metadata": {
  "kernelspec": {
   "display_name": "Python 3 (ipykernel)",
   "language": "python",
   "name": "python3"
  },
  "language_info": {
   "codemirror_mode": {
    "name": "ipython",
    "version": 3
   },
   "file_extension": ".py",
   "mimetype": "text/x-python",
   "name": "python",
   "nbconvert_exporter": "python",
   "pygments_lexer": "ipython3",
   "version": "3.10.4"
  }
 },
 "nbformat": 4,
 "nbformat_minor": 1
}
