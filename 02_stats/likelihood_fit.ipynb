{
 "cells": [
  {
   "cell_type": "markdown",
   "metadata": {},
   "source": [
    "# Likelihood Fit with Scipy\n",
    " >__Created__:  October 2021, Virtual, LPC Course: Statistics in Particle Physics.<br>\n",
    " >__Updated__: May 2022, INFN School of Statistics, Paestum, Italy\n",
    " \n",
    " \n",
    " This notebook gives a basic introduction to __Python__ and likelihood fits using __scipy__. It is an implementation of part of Glen Cowan's exercise at INFN SOS 2013, Vietri sul Mare, Italy. \n",
    " \n",
    " ### Python Tips\n",
    "  * Python uses indentation to create program blocks.\n",
    "    Semicolons are not needed as in C++. It is therefore convenient to use\n",
    "    a Python-aware editor, such as __emacs__. This will help\n",
    "    minimize indentation errors.\n",
    "\n",
    "  * There are two basic ways to load program modules into memory, e.g.:\n",
    "```python\n",
    "    import numpy\n",
    "```\n",
    "or\n",
    "```python\n",
    "    import numpy as np\n",
    "```\n",
    "and\n",
    "```python\n",
    "    from numpy import random\n",
    "```\n",
    "  * Strings can be initialized either with single or double quotes,\n",
    "    'ABC' or \"ABC\". This is useful when \"ABC\" needs to be embedded within\n",
    "    a string. Use \\ to continue strings across lines: \n",
    "```python\n",
    "    poem = 'You blocks you stones\\n'\\\n",
    "           'You worse than senseless things'\n",
    "```\n",
    "  * *IMPORTANT*: Python uses __dynamic typing__, which means that the type of\n",
    "    a variable is detemined at runtime by its value. Consequently,\n",
    "    a variable's type is, well, variable!\n",
    "```python\n",
    "    x = 0     # x is an integer\n",
    "    \n",
    "    x = 0.0   # x is now a float\n",
    "    \n",
    "    x ='0'    # x is now a string\n",
    "```\n",
    "    Also (if you're still using Python 2) beware of\n",
    "```python\n",
    "    x = 42\n",
    "    \n",
    "    y = x / 84\n",
    "```\n",
    "The answer will be y = 0 because x is an integer!\n"
   ]
  },
  {
   "cell_type": "code",
   "execution_count": 1,
   "metadata": {},
   "outputs": [],
   "source": [
    "# standard system modules\n",
    "import os, sys\n",
    "\n",
    "# standard table manipulation module\n",
    "import pandas as pd\n",
    "\n",
    "# standard array manipulation module\n",
    "import numpy as np\n",
    "\n",
    "# standard scientific python module\n",
    "import scipy as sp\n",
    "import scipy.stats as st\n",
    "import scipy.optimize as op\n",
    "\n",
    "# standard symbolic algebra pakage\n",
    "import sympy as sm\n",
    "\n",
    "# standard plotting module\n",
    "import matplotlib as mp\n",
    "import matplotlib.pyplot as plt\n",
    "\n",
    "# make plots appear inline\n",
    "%matplotlib inline"
   ]
  },
  {
   "cell_type": "code",
   "execution_count": 2,
   "metadata": {},
   "outputs": [],
   "source": [
    "# update fonts\n",
    "font = {'family' : 'serif',\n",
    "        'weight' : 'normal',\n",
    "        'size'   : 20\n",
    "        }\n",
    "mp.rc('font', **font)\n",
    "mp.rc('xtick', labelsize='x-small')\n",
    "mp.rc('ytick', labelsize='x-small')\n",
    "\n",
    "# set usetex = False if Latex is not available on your system\n",
    "mp.rc('text', usetex=True)\n",
    "\n",
    "# set a seed to ensure reproducibility \n",
    "# on a given machine\n",
    "seed = 111\n",
    "rnd = np.random.RandomState(seed)"
   ]
  },
  {
   "cell_type": "markdown",
   "metadata": {},
   "source": [
    "### Generate some data from an exponential"
   ]
  },
  {
   "cell_type": "code",
   "execution_count": 3,
   "metadata": {},
   "outputs": [
    {
     "data": {
      "text/plain": [
       "array([ 9.47188633,  1.85209428,  5.72805677, 14.66474459])"
      ]
     },
     "execution_count": 3,
     "metadata": {},
     "output_type": "execute_result"
    }
   ],
   "source": [
    "scale =  10.0\n",
    "ndata = 200\n",
    "data  = scale * rnd.standard_exponential(ndata)\n",
    "data[:4]"
   ]
  },
  {
   "cell_type": "markdown",
   "metadata": {},
   "source": [
    "### Plot data as a histogram"
   ]
  },
  {
   "cell_type": "code",
   "execution_count": 6,
   "metadata": {},
   "outputs": [],
   "source": [
    "def plotData(data, nbins, \n",
    "             xmin=0, xmax=50,\n",
    "             ymin=0, ymax=60,\n",
    "             ftsize=20, \n",
    "             color=(0,0,1), \n",
    "             fgsize=(8,5)):\n",
    "\n",
    "    # set size of figure\n",
    "    plt.figure(figsize=fgsize)\n",
    "    \n",
    "    # histogram data\n",
    "    # returns y, x, o\n",
    "    # y: counts\n",
    "    # x: bin boundaries\n",
    "    # o: objects (not used, hence the use of \"_\")\n",
    "    y, x, _ = plt.hist(data, \n",
    "                       bins=nbins, \n",
    "                       color=color,\n",
    "                       alpha=0.3,\n",
    "                       range=(xmin, xmax), \n",
    "                       density=False)\n",
    "    \n",
    "    # convert bin boundaries to bin centers\n",
    "    # Note: x[1:]  = x[1], x[2], ..., x[n-1]\n",
    "    #       x[:-1] = x[0], x[1], ..., x[n-2]\n",
    "    x = (x[:-1]+x[1:])/2\n",
    "    \n",
    "    # add simple \"error\" bars sqrt(N)\n",
    "    y_err = np.sqrt(y)\n",
    "    \n",
    "    plt.errorbar(x, y, yerr=y_err, \n",
    "                 fmt='o', \n",
    "                 ecolor='blue', \n",
    "                 markersize=10,\n",
    "                 color='steelblue')\n",
    "\n",
    "    # add legends in the order in which plot objects\n",
    "    # are created\n",
    "    plt.legend(['data'])\n",
    "    \n",
    "    # set up x, y limits\n",
    "    plt.xlim(xmin, xmax)\n",
    "    plt.ylim(ymin, ymax)\n",
    "    \n",
    "    # add x and y labels\n",
    "    plt.xlabel('$x$', fontsize=24)\n",
    "    plt.ylabel('counts', fontsize=24)\n",
    "    \n",
    "    # tighten layout so that image is fully\n",
    "    # contained within viewport\n",
    "    plt.tight_layout()\n",
    "    plt.savefig(\"fig_likelihood_data.pdf\")\n",
    "    plt.show()\n",
    "    \n",
    "    # convert lists to numpy arrays\n",
    "    return (np.array(x), np.array(y))"
   ]
  },
  {
   "cell_type": "code",
   "execution_count": 7,
   "metadata": {},
   "outputs": [
    {
     "data": {
      "image/png": "[encoded data removed]",
      "text/plain": [
       "<Figure size 576x360 with 1 Axes>"
      ]
     },
     "metadata": {
      "needs_background": "light"
     },
     "output_type": "display_data"
    }
   ],
   "source": [
    "xx, yy = plotData(data, nbins=25, \n",
    "                  xmin=0, xmax=50,\n",
    "                  ymin=0, ymax=60)\n",
    "\n",
    "# bin width\n",
    "h = xx[1]-xx[0]"
   ]
  },
  {
   "cell_type": "markdown",
   "metadata": {},
   "source": [
    "### Exclude bins with a count less than 5\n",
    "Note use of __zip__ to zip together two lists __xx__ and __yy__ to form a list  __dd__ of 2-tuples and use __zip(*dd)__ to unzip."
   ]
  },
  {
   "cell_type": "code",
   "execution_count": 8,
   "metadata": {},
   "outputs": [
    {
     "name": "stdout",
     "output_type": "stream",
     "text": [
      "number of data points with more than 5 counts: 10\n"
     ]
    }
   ],
   "source": [
    "# exclude bins with a count of zero\n",
    "select = yy > 5\n",
    "x = xx[select]\n",
    "y = yy[select]\n",
    "m = len(x)\n",
    "print(\"number of data points with more than 5 counts: %d\" % m)"
   ]
  },
  {
   "cell_type": "code",
   "execution_count": 25,
   "metadata": {},
   "outputs": [
    {
     "data": {
      "text/plain": [
       "(3.386294361119891, 3.386294361119891)"
      ]
     },
     "execution_count": 25,
     "metadata": {},
     "output_type": "execute_result"
    }
   ],
   "source": [
    "mu = 1\n",
    "k  = 2\n",
    "y0 = -2*(-mu + k*np.log(mu) - np.log(np.math.factorial(k)))\n",
    "y1 = -2*st.poisson.logpmf(k, mu)\n",
    "y1,y0"
   ]
  },
  {
   "cell_type": "markdown",
   "metadata": {},
   "source": [
    "### Fit model $\\color{blue}{a b \\exp(-b x)}$ to data\n",
    "The __scipy__ function\n",
    "```python\n",
    "results = op.least_squares(func, guess, bounds=[lower, upper])\n",
    "```\n",
    "where\n",
    "  * *func* is an $m$-dimensional real function $f_i(\\theta)$, $i = 1, \\cdots, m,$ with an $n$-dimensional parameter vector $\\theta$;\n",
    "  * *guess* is an initial estimate of the parameter vector $\\theta$, and\n",
    "  * *bounds* contain the lower and upper bounds on the parameter space to be searched,\n",
    "  \n",
    "by default, minimizes the function\n",
    "$$C(\\theta) = \\frac{1}{2} \\sum_{i=1}^m f_i^2(\\theta) .$$\n",
    "\n",
    "We set \n",
    "$$f_i(\\theta) = 2 \\sqrt{-[\\log \\text{Poisson}(N_i, y_i) - \\log \\text{Poisson}(N_i, N_i)]}$$\n",
    "so\n",
    "that\n",
    "$$C(\\theta) = - 2 \\sum_{i=1}^m [\\log \\text{Poisson}(N_i, y_i) - \\log \\text{Poisson}(N_i, N_i)],$$\n",
    "where $y_i(\\theta) = a b \\int_\\textrm{bin$_i$} \\exp(-b x) \\, dx \\approx a b \\exp(-b x_i) \\times h$, with $\\theta = a, b$ and $h$ is the bin width. For large $N$, we expect the density of $C$ to be approximately $p(\\chi^2, \\textrm{ndf})$ with $\\textrm{ndf} = m - n$ degrees of freedom (since there are $m$ bins and $n=2$ free parameters).\n",
    "\n",
    "### Covariance matrix\n",
    "If $C(\\theta)$ is approximately a $\\chi^2$ variate, then the covariance matrix of the parameters can be approximated by $\\text{Cov} = H^{-1}$, where \n",
    "the Hessian matrix $H$ is given by\n",
    "\n",
    "$\n",
    "\\begin{align*}\n",
    "    H_{jk} &= \\frac{\\partial^2 C}{\\partial \\theta_j \\partial \\theta_k},\\\\\n",
    "    & = \n",
    "\\sum_{i=1}^{m} \\frac{\\partial f_i}{\\partial \\theta_j} \\frac{\\partial f_i}{\\partial \\theta_k}  + \\sum_{i=1}^{m} f_i \\, \\frac{\\partial^2 f_i}{\\partial \\theta_j \\partial \\theta_k} , \n",
    "\\end{align*}\n",
    "$\n",
    "\n",
    "and evaluated at the best-fit value $\\theta = \\hat{\\theta}$.\n",
    "\n",
    "#### Results\n",
    "The data structure __results__ contains\n",
    "  * results.x: the fitted parameter values\n",
    "  * results.cost: $C_\\textrm{min}(\\theta)$\n",
    "  * results.jac: the $m \\times n$ Jacobian matrix $J_{ij} = [\\partial f_i / \\partial \\theta_j]$ from which the Hessian can be approximated by $H \\approx J^T J$."
   ]
  },
  {
   "cell_type": "markdown",
   "metadata": {},
   "source": [
    "### Define model to be fitted to data"
   ]
  },
  {
   "cell_type": "code",
   "execution_count": 27,
   "metadata": {},
   "outputs": [],
   "source": [
    "def func(params, *args):\n",
    "    x, n, h = args\n",
    "    a, b = params\n",
    "    mu= a * b * np.exp(-b*x) * h\n",
    "    f = -st.poisson.logpmf(n, mu) + st.poisson.logpmf(n, n)\n",
    "    return 2*np.sqrt(f)"
   ]
  },
  {
   "cell_type": "markdown",
   "metadata": {},
   "source": [
    "### Perform least squares fit"
   ]
  },
  {
   "cell_type": "code",
   "execution_count": 28,
   "metadata": {},
   "outputs": [],
   "source": [
    "guess = [50.0, 5.0]    # estimates of a and b\n",
    "lower = [0.0, 0.0]     # lower bounds of a and b\n",
    "upper = [500.0, 500.0] # upper bounds of a and b\n",
    "\n",
    "\n",
    "results = op.least_squares(func, guess, \n",
    "                           args=(x, y, h),\n",
    "                           bounds=[lower, upper])"
   ]
  },
  {
   "cell_type": "markdown",
   "metadata": {},
   "source": [
    "### Get results of fit"
   ]
  },
  {
   "cell_type": "code",
   "execution_count": 29,
   "metadata": {},
   "outputs": [
    {
     "name": "stdout",
     "output_type": "stream",
     "text": [
      "\n",
      "a = 206.62 +/- 13.21\n",
      "b =   0.09 +/-  0.01\n",
      "chisq / NDF =  6.19 / 8 =  0.77\n",
      "\n"
     ]
    }
   ],
   "source": [
    "# best-fit parameters\n",
    "a, b  = results.x\n",
    "\n",
    "# compute approximate covariance matrix\n",
    "J     = results.jac\n",
    "H     = np.dot(J.T, J)   # approximate Hessian\n",
    "cov   = np.linalg.inv(H)\n",
    "\n",
    "# get approximate standard \"errors\"\n",
    "da    = np.sqrt(cov[0][0])\n",
    "db    = np.sqrt(cov[1][1])\n",
    "\n",
    "chisq = results.cost     # minimum chisquare\n",
    "NDF   = m - 2            # number of degrees of freedom\n",
    "chisqNDF = chisq/NDF\n",
    "print('''\n",
    "a = %6.2f +/- %5.2f\n",
    "b = %6.2f +/- %5.2f\n",
    "chisq / NDF = %5.2f / %d = %5.2f\n",
    "''' % (a, da, b, db, chisq, NDF, chisqNDF))"
   ]
  },
  {
   "cell_type": "markdown",
   "metadata": {},
   "source": [
    "## A bit of statistics\n",
    "\n",
    "A fit of a model to data returns estimates $\\hat{\\theta}$ of the model parameters $\\theta$, a measure of the uncertainty associated with these estimates, and,\n",
    "ideally, a measure of how well the model fits the data. In the frequentist approach this measure is referred to as a \n",
    "    __goodness of fit__ (gof). \n",
    "\n",
    "Goodness of fit is an example of an __hypothesis test__ in which, unlike the Neyman-Pearson and Bayesian approaches, an alternative hypothesis is not explicitly specified. The single-hypothesis approach was introduced by the British statistician Sir Ronald Fisher in the 1930s. In this problem the  hypothesis being tested, denoted by $H_0$, is that the *fit of the model to the data is good*.   In Fisher's approach one tests the hypothesis $H_0$, called the __null hypothesis__, by asking whether it should be *rejected*. \n",
    "\n",
    "Fisher proposed the following procedure: construct a statistic $S$ with the property that a value equal to or greater than the observed value, $S_0$, of the statistic $S$ would cast doubt on the veracity of the null hypothesis, $H_0$. Then, assuming that the null hypothesis is true, one computes the probability\n",
    "\n",
    "$$p = \\text{Prob}(S \\geq S_0).$$\n",
    "\n",
    "The probability $p$ is called a __p-value__. If the p-value is very small then either the null hypothesis is true and a rare fluctuation has been observed or the null hypothesis is false. If the p-value is judged to be unreasonably small one might be inclined to reject the null hypothesis and act as if it is false.\n",
    "\n",
    "For this problem, we shall use the statistic\n",
    "\n",
    "  $$S(\\theta) = \\sum_{i=1}^M \\left(\\frac{N_i - n_i(\\theta)}{\\sqrt{N_i}}\\right)^2 ,$$\n",
    "  \n",
    "that is, the same function as the one we minimized and take $S_0 = S(\\hat{\\theta})$ as its observed value. The reason this statistic is convenient is that it is approximately a $\\chi^2$ variate of $m - n$ degrees of freedom; therefore, its probability density is known and, crucially, does not depend on the *unknown* value of the parameter vector $\\theta$. Furthermore, values $S_0 >> m - n$ would cast doubt on the hypothesis that the fit is good. Consequently, the p-value is given by\n",
    "\n",
    "$$\\text{p-value} = \\int_{S_0}^{\\infty} p(\\chi^2) \\, d\\chi^2.$$"
   ]
  },
  {
   "cell_type": "code",
   "execution_count": 30,
   "metadata": {},
   "outputs": [
    {
     "name": "stdout",
     "output_type": "stream",
     "text": [
      "\n",
      "p-value of fit:   0.63\n",
      "\n"
     ]
    }
   ],
   "source": [
    "pvalue = 1 - st.chi2.cdf(chisq, NDF)\n",
    "print('''\n",
    "p-value of fit: %6.2f\n",
    "''' % pvalue)"
   ]
  },
  {
   "cell_type": "markdown",
   "metadata": {},
   "source": [
    "Since the p-value is large, we have no reason to reject the hypothesis that the fit is good."
   ]
  },
  {
   "cell_type": "markdown",
   "metadata": {},
   "source": [
    "### Plot results of fit"
   ]
  },
  {
   "cell_type": "code",
   "execution_count": 34,
   "metadata": {},
   "outputs": [],
   "source": [
    "def plotResult(x, y, params, nbins=25, \n",
    "               xmin=0, xmax=50, \n",
    "               ymin=0, ymax=60, \n",
    "               ftsize=20, \n",
    "               color=(0,0,1), \n",
    "               fgsize=(8, 5)):\n",
    "    a, b = params\n",
    "    \n",
    "    # set size of figure\n",
    "    plt.figure(figsize=fgsize)\n",
    "    \n",
    "    # plot points with simple error bars sqrt(N)\n",
    "    y_err = [np.sqrt(z) for z in y]\n",
    "    plt.errorbar(x, y, yerr=y_err, fmt='o', \n",
    "                 ecolor='blue', markersize=10,\n",
    "                 color='steelblue')\n",
    "    \n",
    "    h = x[1]-x[0]\n",
    "    f = a*b*np.exp(-b*x)*h\n",
    "    plt.plot(x, f, 'r-')\n",
    "    \n",
    "    # add legends in order in which plot objects\n",
    "    # are created\n",
    "    plt.legend(['fit', 'data'])\n",
    "    \n",
    "    # set up x, y limits\n",
    "    plt.xlim(xmin, xmax)\n",
    "    plt.ylim(ymin, ymax)\n",
    "   \n",
    "    # add x and y labels\n",
    "    plt.xlabel('$x$', fontsize=ftsize)\n",
    "    plt.ylabel('counts', fontsize=ftsize)\n",
    "    \n",
    "    # annotate \n",
    "    xwid = (xmax-xmin)/10\n",
    "    ywid = (ymax-ymin)/10\n",
    "\n",
    "    xpos = 3*xwid\n",
    "    ypos = 9*ywid\n",
    "    \n",
    "    plt.text(xpos, ypos, \n",
    "             r'$g(x, \\theta) = a b \\exp(-b x)$', fontsize=ftsize)\n",
    "    \n",
    "    ypos -= ywid*2\n",
    "    plt.text(xpos, ypos, \n",
    "             r'$a = %6.1f \\pm %5.1f$' % (a, da), fontsize=ftsize)\n",
    "    \n",
    "    ypos -= ywid\n",
    "    plt.text(xpos, ypos, \n",
    "             r'$b = %6.2f \\pm %5.2f$' % (b, db), fontsize=ftsize)\n",
    "    \n",
    "    ypos -= ywid\n",
    "    plt.text(xpos, ypos, \n",
    "             r'$\\chi^2 \\, /\\,$ NDF $= %6.1f \\, / \\, %d$' % (chisq, NDF), \n",
    "             fontsize=ftsize)\n",
    "\n",
    "    ypos -= ywid\n",
    "    plt.text(xpos, ypos, \n",
    "             r'$p$-value = %6.2f' % pvalue, \n",
    "             fontsize=ftsize)\n",
    " \n",
    "    # tighten layout so that image is fully\n",
    "    # contained within viewport\n",
    "    plt.tight_layout()\n",
    "    plt.savefig(\"fig_likelihood_fit.pdf\")\n",
    "    plt.show()"
   ]
  },
  {
   "cell_type": "code",
   "execution_count": 32,
   "metadata": {},
   "outputs": [
    {
     "data": {
      "image/png": "[encoded data removed]",
      "text/plain": [
       "<Figure size 576x360 with 1 Axes>"
      ]
     },
     "metadata": {
      "needs_background": "light"
     },
     "output_type": "display_data"
    }
   ],
   "source": [
    "plotResult(xx, yy, results.x, \n",
    "           nbins=25, xmin=0, xmax=50, ymin=0, ymax=60)"
   ]
  },
  {
   "cell_type": "code",
   "execution_count": null,
   "metadata": {},
   "outputs": [],
   "source": []
  }
 ],
 "metadata": {
  "kernelspec": {
   "display_name": "Python 3 (ipykernel)",
   "language": "python",
   "name": "python3"
  },
  "language_info": {
   "codemirror_mode": {
    "name": "ipython",
    "version": 3
   },
   "file_extension": ".py",
   "mimetype": "text/x-python",
   "name": "python",
   "nbconvert_exporter": "python",
   "pygments_lexer": "ipython3",
   "version": "3.10.4"
  }
 },
 "nbformat": 4,
 "nbformat_minor": 1
}
