{
 "cells": [
  {
   "cell_type": "markdown",
   "metadata": {},
   "source": [
    "# Partition Problem\n",
    " >__Created__: INFN School of Statistics, Paestum, Italy May 2024\n",
    "\n",
    "$\\color{blue}{12}$ undergraduate students and $\\color{blue}{3}$  graduate students are randomly divided into $\\color{blue}{3}$ groups of $\\color{blue{5}$ students [1]. What is the probability that each group includes a graduate student?\n",
    "\n",
    "Here we use the Python module __itertools__ to simulate the problem.\n",
    "\n",
    "  1. Dimitri P. Bertsekas and John N. Tsitsiklis, Introduction to probability, MIT, ISBN 978-1-886529-23-6"
   ]
  },
  {
   "cell_type": "code",
   "execution_count": 1,
   "metadata": {},
   "outputs": [],
   "source": [
    "# standard Python system modules\n",
    "import os, sys, re\n",
    "\n",
    "# standard array manipulation\n",
    "import numpy as np\n",
    "\n",
    "from tqdm import tqdm\n",
    "\n",
    "# combinatorial analysis\n",
    "from itertools import combinations\n",
    "import itertools as it\n",
    "from math import factorial"
   ]
  },
  {
   "cell_type": "markdown",
   "metadata": {},
   "source": [
    "### Create all possible partitions\n",
    "We divide the 15 students into 3 groups of 5 students per group. Since the order of students within a group does not matter, the cardinality of the set $\\Omega$ of partitions is\n",
    "$$|\\Omega| = \\frac{15!}{5! 5!5!} = 756,756.$$\n"
   ]
  },
  {
   "cell_type": "code",
   "execution_count": 2,
   "metadata": {},
   "outputs": [
    {
     "name": "stdout",
     "output_type": "stream",
     "text": [
      "\n",
      "    number of students:          15\n",
      "    number of grad students:      3\n",
      "    number of undergrads:        12\n",
      "    number of students/group:     5\n",
      "    students:\n",
      "{'U09', 'U02', 'U01', 'U04', 'U05', 'U08', 'U03', 'U10', 'G01', 'U12', 'G03', 'U07', 'G02', 'U06', 'U11'}\n",
      "    \n",
      "|Omega|:     756756\n"
     ]
    }
   ],
   "source": [
    "nS = 15          # number of students\n",
    "nG =  3          # number of grad students (which is the same as the number of groups)\n",
    "ng =int(nS / nG) # number of students per group\n",
    "nU = nS-nG       # number of undergrads\n",
    "\n",
    "U = ['U%2.2d' % x for x in range(1, nU+1)] # undergrads\n",
    "G = ['G%2.2d' % x for x in range(1, nG+1)] # grads\n",
    "S = set(U + G)\n",
    "\n",
    "def printit():\n",
    "    print(f'''\n",
    "    number of students:       {nS:5d}\n",
    "    number of grad students:  {nG:5d}\n",
    "    number of undergrads:     {nU:5d}\n",
    "    number of students/group: {ng:5d}\n",
    "    students:\\n{str(S):s}\n",
    "    ''')\n",
    "printit()\n",
    "\n",
    "M = int(factorial(nS)/factorial(ng)**nG)\n",
    "print(f'|Omega|: {M:10d}')"
   ]
  },
  {
   "cell_type": "markdown",
   "metadata": {},
   "source": [
    "The code below seems to work only if the $n$ in $\\binom{m}{n}$ differs between the two calls to `combinations`."
   ]
  },
  {
   "cell_type": "code",
   "execution_count": 3,
   "metadata": {},
   "outputs": [
    {
     "name": "stdout",
     "output_type": "stream",
     "text": [
      "|Omega|:     756756\n"
     ]
    }
   ],
   "source": [
    "partitions = []\n",
    "\n",
    "for C1 in combinations(S, ng):\n",
    "    C1 = set(C1)\n",
    "    S1 = S - C1 # remove from S students who are already assigned to a group\n",
    "    \n",
    "    for C2 in combinations(S1, ng):\n",
    "        C2 = set(C2)\n",
    "        C3 = S1 - C2 # remove from S1 students who are already assigned to a group\n",
    "\n",
    "        partitions.append([C1, C2, C3])\n",
    "\n",
    "print(f'|Omega|: {len(partitions):10d}')"
   ]
  },
  {
   "cell_type": "markdown",
   "metadata": {
    "collapsed": true,
    "jupyter": {
     "outputs_hidden": true
    }
   },
   "source": [
    "#### Count number of partitions with 1 graduate student per group\n",
    "Since we want 1 graduate per group there are 4 slots per group available for the undergraduates. The number of combinations of undergrads is therefore\n",
    "$$\\frac{12!}{4!4!4!} = 34,650.$$\n",
    "But for every one of these arrangements of undergraduates the grad students can be arranged among themselves $3!$ ways. Therefore, the cardinality of the desired event, $E$, is\n",
    "$$|E| = 3! \\frac{12!}{4!4!4!} = 207,900.$$"
   ]
  },
  {
   "cell_type": "code",
   "execution_count": 6,
   "metadata": {},
   "outputs": [
    {
     "name": "stdout",
     "output_type": "stream",
     "text": [
      "Number of undergrads:                         12\n",
      "Number of undergrad slots/group:               4\n",
      "Number of groups:                              3\n",
      "number of combinations of undergrads:      34650\n",
      "|E|:     207900\n"
     ]
    }
   ],
   "source": [
    "print(f'Number of undergrads:                 {nU:10d}')\n",
    "print(f'Number of undergrad slots/group:      {ng-1:10d}')\n",
    "print(f'Number of groups:                     {nG:10d}')\n",
    "\n",
    "K = int(factorial(nU)/factorial(ng-1)**nG)\n",
    "print(f'number of combinations of undergrads: {K:10d}')\n",
    "\n",
    "E = int(factorial(nG)) * K\n",
    "print(f'|E|: {E:10d}')"
   ]
  },
  {
   "cell_type": "markdown",
   "metadata": {},
   "source": [
    "#### Construction of the set $E$\n",
    "\n",
    "Let $G$ denote the set of graduate students and, for a given partition $x$, let $C_1$, $C_2$, and $C_3$ be the sets of students in each group. The event $E$ is the set\n",
    "\\begin{align*}\n",
    "    E & = \\{ x : (|G\\cap C_1| == 1) \\text{ and } (|G\\cap C_2| == 1) \\text{ and } (|G\\cap C_3| == 1) \\}\n",
    "\\end{align*}"
   ]
  },
  {
   "cell_type": "code",
   "execution_count": 7,
   "metadata": {},
   "outputs": [
    {
     "name": "stdout",
     "output_type": "stream",
     "text": [
      "{'G01', 'G03', 'G02'}\n",
      "|E|:     207900\n"
     ]
    }
   ],
   "source": [
    "G = set(G)\n",
    "print(G)\n",
    "K = 0\n",
    "for C1, C2, C3 in partitions:\n",
    "\n",
    "    if len(G.intersection(C1)) != 1:\n",
    "        continue\n",
    "        \n",
    "    if len(G.intersection(C2)) != 1: \n",
    "        continue\n",
    "        \n",
    "    if len(G.intersection(C3)) != 1:\n",
    "        continue\n",
    "\n",
    "    # each partition contains 1 graduate student\n",
    "    K += 1\n",
    "\n",
    "print(f'|E|: {K:10d}')"
   ]
  },
  {
   "cell_type": "code",
   "execution_count": null,
   "metadata": {},
   "outputs": [],
   "source": []
  }
 ],
 "metadata": {
  "kernelspec": {
   "display_name": "Python 3 (ipykernel)",
   "language": "python",
   "name": "python3"
  },
  "language_info": {
   "codemirror_mode": {
    "name": "ipython",
    "version": 3
   },
   "file_extension": ".py",
   "mimetype": "text/x-python",
   "name": "python",
   "nbconvert_exporter": "python",
   "pygments_lexer": "ipython3",
   "version": "3.11.8"
  }
 },
 "nbformat": 4,
 "nbformat_minor": 4
}
